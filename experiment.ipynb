{
 "cells": [
  {
   "cell_type": "code",
   "execution_count": 28,
   "metadata": {
    "collapsed": true,
    "pycharm": {
     "name": "#%%\n"
    }
   },
   "outputs": [],
   "source": [
    "import pandas as pd\n",
    "import numpy as np\n",
    "with open('ass2.pickle', 'rb') as file:\n",
    "    data = pd.read_pickle(file)\n"
   ]
  },
  {
   "attachments": {},
   "cell_type": "markdown",
   "metadata": {
    "collapsed": false,
    "pycharm": {
     "name": "#%% md\n"
    }
   },
   "source": [
    "model that we can learn that we can use to clasifaide this data set are:\n",
    "decision tree, random forest, linear model, knn, the regression that we convert to be a classification"
   ]
  },
  {
   "attachments": {},
   "cell_type": "markdown",
   "metadata": {},
   "source": [
    "first let analaiys this data:"
   ]
  },
  {
   "cell_type": "code",
   "execution_count": 44,
   "metadata": {},
   "outputs": [
    {
     "name": "stdout",
     "output_type": "stream",
     "text": [
      "The number of featuures the this data set is: 42\n",
      "The number of traing sample of  is: 40533\n",
      "The number of Dev samples is:  13512\n",
      "The number of test samples is: 13512\n",
      "traing data\n",
      "       f0  f1  f2  f3  f4  f5  f6  f7  f8  f9  ...  f33  f34  f35  f36  f37  \\\n",
      "51905   1   0   0   0   0   0   2   1   2   2  ...    0    0    0    2    0   \n",
      "52612   0   0   0   0   0   0   2   1   0   0  ...    0    0    0    2    0   \n",
      "61699   2   1   2   1   1   0   2   2   0   0  ...    0    0    0    1    0   \n",
      "6291    0   0   0   0   0   0   0   0   0   0  ...    0    0    0    2    0   \n",
      "17484   0   0   0   0   0   0   1   1   2   0  ...    0    0    0    2    1   \n",
      "...    ..  ..  ..  ..  ..  ..  ..  ..  ..  ..  ...  ...  ...  ...  ...  ...   \n",
      "9379    1   1   0   0   0   0   1   0   0   0  ...    0    0    0    2    0   \n",
      "40261   1   2   0   0   0   0   0   0   0   0  ...    0    0    0    1    2   \n",
      "23630   0   0   0   0   0   0   1   0   0   0  ...    0    0    0    2    2   \n",
      "7937    1   0   0   0   0   0   2   1   1   0  ...    0    0    0    0    0   \n",
      "63627   2   2   2   1   0   0   0   0   0   0  ...    0    0    0    1    0   \n",
      "\n",
      "       f38  f39  f40  f41  target  \n",
      "51905    0    0    0    0       2  \n",
      "52612    0    0    0    0       2  \n",
      "61699    0    0    0    0       2  \n",
      "6291     0    0    0    0       2  \n",
      "17484    2    0    0    0       2  \n",
      "...    ...  ...  ...  ...     ...  \n",
      "9379     0    0    0    0       2  \n",
      "40261    0    0    0    0       2  \n",
      "23630    0    0    0    0       1  \n",
      "7937     0    0    0    0       2  \n",
      "63627    0    0    0    0       0  \n",
      "\n",
      "[40533 rows x 43 columns]\n",
      "dev data\n",
      "       f0  f1  f2  f3  f4  f5  f6  f7  f8  f9  ...  f33  f34  f35  f36  f37  \\\n",
      "104     1   2   0   0   0   0   0   0   0   0  ...    0    0    0    0    0   \n",
      "3548    2   0   0   0   0   0   2   0   0   0  ...    0    0    0    0    0   \n",
      "11672   1   0   0   0   0   0   2   2   0   0  ...    0    0    0    2    1   \n",
      "58531   0   0   0   0   0   0   2   1   2   2  ...    0    0    0    0    0   \n",
      "14252   0   0   0   0   0   0   1   2   1   2  ...    0    0    0    0    0   \n",
      "...    ..  ..  ..  ..  ..  ..  ..  ..  ..  ..  ...  ...  ...  ...  ...  ...   \n",
      "58394   0   0   0   0   0   0   2   1   1   2  ...    0    0    0    0    0   \n",
      "12558   0   0   0   0   0   0   1   0   0   0  ...    0    0    0    0    0   \n",
      "5837    0   0   0   0   0   0   0   0   0   0  ...    0    0    0    1    0   \n",
      "63542   2   2   1   1   0   0   0   0   0   0  ...    0    0    0    2    0   \n",
      "63298   2   1   2   2   1   0   0   0   0   0  ...    0    0    0    2    1   \n",
      "\n",
      "       f38  f39  f40  f41  target  \n",
      "104      0    0    0    0       2  \n",
      "3548     0    0    0    0       1  \n",
      "11672    0    0    0    0       2  \n",
      "58531    0    0    0    0       1  \n",
      "14252    0    0    0    0       2  \n",
      "...    ...  ...  ...  ...     ...  \n",
      "58394    0    0    0    0       0  \n",
      "12558    0    0    0    0       2  \n",
      "5837     0    0    0    0       0  \n",
      "63542    0    0    0    0       2  \n",
      "63298    0    0    0    0       0  \n",
      "\n",
      "[13512 rows x 43 columns]\n",
      "test data\n",
      "       f0  f1  f2  f3  f4  f5  f6  f7  f8  f9  ...  f33  f34  f35  f36  f37  \\\n",
      "62110   2   0   0   0   0   0   0   0   0   0  ...    0    0    0    0    0   \n",
      "15906   2   1   1   0   0   0   1   0   0   0  ...    0    0    0    0    0   \n",
      "23980   2   0   0   0   0   0   1   1   2   1  ...    0    0    0    0    0   \n",
      "1986    1   0   0   0   0   0   0   0   0   0  ...    0    0    0    0    0   \n",
      "53416   2   2   1   0   0   0   2   0   0   0  ...    0    0    0    1    0   \n",
      "...    ..  ..  ..  ..  ..  ..  ..  ..  ..  ..  ...  ...  ...  ...  ...  ...   \n",
      "18778   1   2   2   0   0   0   0   0   0   0  ...    0    0    0    1    2   \n",
      "3855    2   2   1   0   0   0   2   0   0   0  ...    0    0    0    0    0   \n",
      "27291   1   0   0   0   0   0   0   0   0   0  ...    0    0    0    0    0   \n",
      "55631   2   0   0   0   0   0   2   1   2   0  ...    0    0    0    1    0   \n",
      "47729   2   0   0   0   0   0   2   1   0   0  ...    0    0    0    1    2   \n",
      "\n",
      "       f38  f39  f40  f41  target  \n",
      "62110    0    0    0    0       2  \n",
      "15906    0    0    0    0       0  \n",
      "23980    0    0    0    0       2  \n",
      "1986     0    0    0    0       2  \n",
      "53416    0    0    0    0       2  \n",
      "...    ...  ...  ...  ...     ...  \n",
      "18778    1    0    0    0       2  \n",
      "3855     0    0    0    0       2  \n",
      "27291    0    0    0    0       2  \n",
      "55631    0    0    0    0       2  \n",
      "47729    0    0    0    0       1  \n",
      "\n",
      "[13512 rows x 43 columns]\n",
      "The range of all the features is: 0 - 2\n",
      "The range of all the targets is: 0 - 2\n"
     ]
    }
   ],
   "source": [
    "traing = data['train']\n",
    "dev = data['dev']\n",
    "test = data['test']\n",
    "print(\"The number of featuures the this data set is:\", traing.shape[1]-1)\n",
    "print(\"The number of traing sample of  is:\", len(traing))\n",
    "print(\"The number of Dev samples is: \", len(dev))\n",
    "print(\"The number of test samples is:\", len(test))\n",
    "print(\"traing data\")\n",
    "print(traing)\n",
    "print(\"dev data\")\n",
    "print(dev)\n",
    "print(\"test data\")\n",
    "print(test)\n",
    "nptraing = np.array(traing)\n",
    "npdev = np.array(dev)\n",
    "nptest = np.array(test)\n",
    "totalMin = min(np.min(nptraing[:,:-1]), np.min(npdev[:,:-1]), np.min(nptest[:,:-1]))\n",
    "totalMax = max(np.max(nptraing[:,:-1]), np.max(npdev[:,:-1]), np.max(nptest[:,:-1]))\n",
    "print(\"The range of all the features is:\", totalMin, \"-\", totalMax)\n",
    "check = np.min(traing.target)\n",
    "mintarget = min( np.min(traing.target),  np.min(dev.target),  np.min(test.target))\n",
    "maxtarget = max( np.min(traing.target),  np.min(dev.target),  np.min(test.target))\n",
    "print(\"The range of all the targets is:\", totalMin, \"-\", totalMax)\n"
   ]
  }
 ],
 "metadata": {
  "kernelspec": {
   "display_name": "Python 3",
   "language": "python",
   "name": "python3"
  },
  "language_info": {
   "codemirror_mode": {
    "name": "ipython",
    "version": 3
   },
   "file_extension": ".py",
   "mimetype": "text/x-python",
   "name": "python",
   "nbconvert_exporter": "python",
   "pygments_lexer": "ipython3",
   "version": "3.7.0"
  }
 },
 "nbformat": 4,
 "nbformat_minor": 0
}
